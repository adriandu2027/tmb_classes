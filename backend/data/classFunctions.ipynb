{
 "cells": [
  {
   "cell_type": "code",
   "execution_count": 49,
   "metadata": {},
   "outputs": [],
   "source": [
    "import requests\n",
    "import time\n",
    "import pandas as pd\n",
    "import re\n",
    "from datetime import time\n",
    "from datetime import datetime\n",
    "import pytz\n",
    "import xml.etree.ElementTree as ET\n",
    "from xml.dom import minidom\n"
   ]
  },
  {
   "cell_type": "code",
   "execution_count": 63,
   "metadata": {},
   "outputs": [],
   "source": [
    "df_courses = pd.read_csv(\"courses_2024_fall_cleaned.csv\")"
   ]
  },
  {
   "cell_type": "code",
   "execution_count": 64,
   "metadata": {},
   "outputs": [],
   "source": [
    "def getTime(time_str):\n",
    "    hr = int(time_str[0:2])\n",
    "    min = int(time_str[3:5])\n",
    "    tz = pytz.timezone(\"America/Chicago\")\n",
    "    time_obj = time(hr, min, 0, 0, tzinfo=tz)\n",
    "    return time_obj\n",
    "\n",
    "# convert a time object into a string object\n",
    "def time_to_string(t):\n",
    "    return t.strftime(\"%H:%M\")"
   ]
  },
  {
   "cell_type": "code",
   "execution_count": 65,
   "metadata": {},
   "outputs": [],
   "source": [
    "# convert a time string into a time object\n",
    "def getTime(time_str):\n",
    "    hr = int(time_str[0:2])\n",
    "    min = int(time_str[3:5])\n",
    "    tz = pytz.timezone(\"America/Chicago\")\n",
    "    time_obj = time(hr, min, 0, 0, tzinfo=tz)\n",
    "    return time_obj\n",
    "\n",
    "# convert a time object into a string object\n",
    "def time_to_string(t):\n",
    "    return t.strftime(\"%H:%M\")\n",
    "\n",
    "# query by building\n",
    "def getCoursesInBuilding(building, df):\n",
    "    df_building = df[df[\"Building\"] == building]\n",
    "    return df_building\n",
    "\n",
    "# query all classes that occur today\n",
    "def getClassToday(df, curr_datetime):\n",
    "    weekdays = ['M', 'T', 'W', 'R', 'F', 'S', 'S']\n",
    "    day_of_week = weekdays[curr_datetime.weekday()]\n",
    "    df_today = df[df[\"Days\"].str.contains(day_of_week)]\n",
    "    return df_today\n",
    "\n",
    "# get all courses that are going on right now\n",
    "def getClassNow(df, building):\n",
    "    df = getCoursesInBuilding(building, df)\n",
    "\n",
    "    curr_datetime = datetime.now()\n",
    "    df_today = getClassToday(df, curr_datetime)\n",
    "    # get all courses that going on right now\n",
    "    curr_time = curr_datetime.time()\n",
    "    df_now = df_today[(df_today[\"StartTime\"].apply(lambda x: getTime(x)) <= curr_time) & (df_today[\"EndTime\"].apply(lambda x: getTime(x)) >= curr_time)]\n",
    "    return df_now\n",
    "\n",
    "# return all courses that occur in the next hour\n",
    "def getClassSoon(df, building):\n",
    "    df = getCoursesInBuilding(building, df)\n",
    "\n",
    "    curr_datetime = datetime.now()\n",
    "    df_today = getClassToday(df, curr_datetime)\n",
    "    # get all courses that start within the next hour\n",
    "    curr_time = curr_datetime.time()\n",
    "    next_hr = time((curr_time.hour + 1) % 24, curr_time.minute, curr_time.second, curr_time.microsecond, curr_time.tzinfo)\n",
    "    df_soon = df_today[(df_today[\"StartTime\"].apply(lambda x: getTime(x)) <= next_hr) & (df_today[\"EndTime\"].apply(lambda x: getTime(x)) >= next_hr)]\n",
    "    return df_soon\n",
    "\n",
    "# get all rooms that are currently open as well as when they will be taken again\n",
    "def getOpenNow(df, building):\n",
    "    df = getCoursesInBuilding(building, df)\n",
    "\n",
    "    # get all courses going on today\n",
    "    curr_datetime = datetime.now()\n",
    "    df_today = getClassToday(df, curr_datetime)\n",
    "    # get all courses going on right now\n",
    "    df_now = getClassNow(df, building)\n",
    "    # create set of all rooms in the target building\n",
    "    rooms = set(df[\"RoomNumber\"].unique())\n",
    "    # filter out all rooms that are not open\n",
    "    rooms_used = set(df_now[\"RoomNumber\"].unique())\n",
    "    rooms_open = rooms - rooms_used\n",
    "    # loop through classes in the building today and return the next course time for each open room\n",
    "    rooms_next_used = {room: time(23, 59) for room in rooms_open}   # 11:59 means room is open for rest of day\n",
    "    for idx, row in df_today.iterrows():\n",
    "        startTime = getTime(row[\"StartTime\"])\n",
    "        rm_num = row[\"RoomNumber\"]\n",
    "        # if the room is currently open and this class will occur later in the day\n",
    "        if((rm_num in rooms_open) & (startTime > curr_datetime.time())):\n",
    "            # find the soonest course\n",
    "            if(startTime < rooms_next_used[rm_num]):\n",
    "                rooms_next_used[rm_num] = startTime\n",
    "    rooms_next_used_str = {room: time_to_string(t) for room, t in rooms_next_used.items()}\n",
    "    return rooms_next_used_str"
   ]
  },
  {
   "cell_type": "code",
   "execution_count": 66,
   "metadata": {},
   "outputs": [
    {
     "data": {
      "text/plain": [
       "{'37': '23:59',\n",
       " '166': '23:59',\n",
       " '162': '23:59',\n",
       " '210A': '23:59',\n",
       " '4F': '23:59',\n",
       " '188S': '23:59',\n",
       " '2': '23:59',\n",
       " '376': '23:59',\n",
       " '4G': '23:59',\n",
       " '389': '23:59',\n",
       " '42A': '23:59',\n",
       " '385': '23:59',\n",
       " '323': '23:59',\n",
       " '22': '23:59',\n",
       " '17': '23:59',\n",
       " '242': '23:59',\n",
       " '382': '23:59'}"
      ]
     },
     "execution_count": 66,
     "metadata": {},
     "output_type": "execute_result"
    }
   ],
   "source": [
    "# df_testing = getClassNow(df_courses, \"Education Building\")\n",
    "df_testing = getOpenNow(df_courses, \"Education Building\")\n",
    "df_testing"
   ]
  },
  {
   "cell_type": "code",
   "execution_count": 69,
   "metadata": {},
   "outputs": [
    {
     "data": {
      "text/plain": [
       "Subject                        AAS\n",
       "CourseID                       355\n",
       "Name           Race and Mixed Race\n",
       "CRN                          61320\n",
       "SectionCode                      A\n",
       "Type            Lecture-Discussion\n",
       "Days                            TR\n",
       "RoomNumber                     219\n",
       "Building         David Kinley Hall\n",
       "Instructors            ['Lule, L']\n",
       "StartTime                 12:30:00\n",
       "EndTime                   01:50:00\n",
       "Name: 33, dtype: object"
      ]
     },
     "execution_count": 69,
     "metadata": {},
     "output_type": "execute_result"
    }
   ],
   "source": [
    "df_courses.loc[df_courses[\"StartTime\"].apply(lambda x: getTime(x)).idxmax()]"
   ]
  },
  {
   "cell_type": "code",
   "execution_count": null,
   "metadata": {},
   "outputs": [],
   "source": []
  }
 ],
 "metadata": {
  "kernelspec": {
   "display_name": "Python 3",
   "language": "python",
   "name": "python3"
  },
  "language_info": {
   "codemirror_mode": {
    "name": "ipython",
    "version": 3
   },
   "file_extension": ".py",
   "mimetype": "text/x-python",
   "name": "python",
   "nbconvert_exporter": "python",
   "pygments_lexer": "ipython3",
   "version": "3.12.3"
  }
 },
 "nbformat": 4,
 "nbformat_minor": 2
}
